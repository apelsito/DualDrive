{
 "cells": [
  {
   "cell_type": "code",
   "execution_count": 1,
   "metadata": {},
   "outputs": [],
   "source": [
    "# Manipulación de DataFrames y variables de entorno\n",
    "# -----------------------------------------------------------------------\n",
    "import pandas as pd                             # Manipulación y análisis de datos en estructuras DataFrame\n",
    "import dotenv                                   # Manejo de variables de entorno (.env)\n",
    "import os                                       # Interacción con el sistema operativo (lectura de variables de entorno)\n",
    "from datetime import datetime                   # Importación específica de datetime para facilitar manejo de fechas\n",
    "\n",
    "import sys\n",
    "sys.path.append(\"../\")                          # Añadir rutas externas para importar módulos desde carpetas superiores\n",
    "from src.SupportCreacionDB import (\n",
    "    conectarse_a_bd,\n",
    "    modificar_bd,\n",
    "    insertar_muchos_datos_bd,\n",
    "    generar_tupla\n",
    ")          "
   ]
  },
  {
   "cell_type": "markdown",
   "metadata": {},
   "source": [
    "# Crear Base de datos"
   ]
  },
  {
   "cell_type": "code",
   "execution_count": 7,
   "metadata": {},
   "outputs": [],
   "source": [
    "key = os.getenv(\"sql\")\n",
    "user = \"postgres\"\n",
    "db = \"hospitales\""
   ]
  },
  {
   "cell_type": "code",
   "execution_count": 8,
   "metadata": {},
   "outputs": [
    {
     "name": "stdout",
     "output_type": "stream",
     "text": [
      "Conectado a la base de datos: hospitales\n"
     ]
    }
   ],
   "source": [
    "conexion = conectarse_a_bd(db,user,key)\n",
    "cursor = conexion.cursor()"
   ]
  },
  {
   "cell_type": "code",
   "execution_count": 10,
   "metadata": {},
   "outputs": [
    {
     "name": "stdout",
     "output_type": "stream",
     "text": [
      "Conectado a la base de datos: hospitales\n",
      "Se ha modificado correctamente la base de Datos\n"
     ]
    }
   ],
   "source": [
    "conexion = conectarse_a_bd(db,user,key)\n",
    "query = '''CREATE TABLE IF NOT EXISTS tipo_hospitalizacion (\n",
    "            id_hospitalizacion INT PRIMARY KEY,\n",
    "            tipo VARCHAR(100) UNIQUE NOT NULL);'''\n",
    "modificar_bd(conexion,query)"
   ]
  },
  {
   "cell_type": "code",
   "execution_count": 11,
   "metadata": {},
   "outputs": [
    {
     "name": "stdout",
     "output_type": "stream",
     "text": [
      "Conectado a la base de datos: hospitales\n",
      "Se ha modificado correctamente la base de Datos\n"
     ]
    }
   ],
   "source": [
    "conexion = conectarse_a_bd(db,user,key)\n",
    "query = '''CREATE TABLE IF NOT EXISTS centro_hospitalario (\n",
    "            id_centro INT PRIMARY KEY,\n",
    "            centro INT UNIQUE NOT NULL);'''\n",
    "modificar_bd(conexion,query)"
   ]
  },
  {
   "cell_type": "code",
   "execution_count": null,
   "metadata": {},
   "outputs": [],
   "source": [
    "conexion = conectarse_a_bd(db,user,key)\n",
    "query = '''CREATE TABLE IF NOT EXISTS gastos (\n",
    "            id_gasto INT PRIMARY KEY,\n",
    "            ano INT NOT NULL,\n",
    "            id_centro INT NOT NULL, #FKKKKK\n",
    "            total_compra INT NOT NULL,\n",
    "            product_farma INT NOT NULL,\n",
    "            material_sanitario INT NULL,\n",
    "            implantes INT NOT NULL,\n",
    "            resto_material_sanitario INT NOT NULL,\n",
    "            servicio_contratado INT NOT NULL,\n",
    "            trabajo_contratado INT NOT NULL,\n",
    "            );'''\n",
    "modificar_bd(conexion,query)"
   ]
  },
  {
   "cell_type": "code",
   "execution_count": null,
   "metadata": {},
   "outputs": [],
   "source": [
    "conexion = conectarse_a_bd(db,user,key)\n",
    "query = '''CREATE TABLE IF NOT EXISTS centro_hospitalario (\n",
    "            id_centro INT PRIMARY KEY,\n",
    "            centro INT UNIQUE NOT NULL);'''\n",
    "modificar_bd(conexion,query)"
   ]
  }
 ],
 "metadata": {
  "kernelspec": {
   "display_name": "Python 3",
   "language": "python",
   "name": "python3"
  },
  "language_info": {
   "codemirror_mode": {
    "name": "ipython",
    "version": 3
   },
   "file_extension": ".py",
   "mimetype": "text/x-python",
   "name": "python",
   "nbconvert_exporter": "python",
   "pygments_lexer": "ipython3",
   "version": "3.11.9"
  }
 },
 "nbformat": 4,
 "nbformat_minor": 2
}
