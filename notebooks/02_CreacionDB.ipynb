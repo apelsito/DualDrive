{
 "cells": [
  {
   "cell_type": "code",
   "execution_count": 5,
   "metadata": {},
   "outputs": [],
   "source": [
    "# Manipulación de DataFrames y variables de entorno\n",
    "# -----------------------------------------------------------------------\n",
    "import pandas as pd                             # Manipulación y análisis de datos en estructuras DataFrame\n",
    "import dotenv\n",
    "dotenv.load_dotenv()                                   # Manejo de variables de entorno (.env)\n",
    "import os                                       # Interacción con el sistema operativo (lectura de variables de entorno)\n",
    "from datetime import datetime                   # Importación específica de datetime para facilitar manejo de fechas\n",
    "\n",
    "import sys\n",
    "sys.path.append(\"../\")                          # Añadir rutas externas para importar módulos desde carpetas superiores\n",
    "from src.SupportCreacionDB import (\n",
    "    conectarse_a_bd,\n",
    "    modificar_bd,\n",
    "    insertar_muchos_datos_bd,\n",
    "    generar_tupla\n",
    ")          "
   ]
  },
  {
   "cell_type": "markdown",
   "metadata": {},
   "source": [
    "# Crear Base de datos"
   ]
  },
  {
   "cell_type": "code",
   "execution_count": 6,
   "metadata": {},
   "outputs": [],
   "source": [
    "key = os.getenv(\"sql\")\n",
    "user = \"postgres\"\n",
    "db = \"hospitales\""
   ]
  },
  {
   "cell_type": "code",
   "execution_count": 7,
   "metadata": {},
   "outputs": [
    {
     "name": "stdout",
     "output_type": "stream",
     "text": [
      "Conectado a la base de datos: hospitales\n"
     ]
    }
   ],
   "source": [
    "conexion = conectarse_a_bd(db,user,key)\n",
    "cursor = conexion.cursor()"
   ]
  },
  {
   "cell_type": "code",
   "execution_count": null,
   "metadata": {},
   "outputs": [
    {
     "name": "stdout",
     "output_type": "stream",
     "text": [
      "Conectado a la base de datos: hospitales\n",
      "Se ha modificado correctamente la base de Datos\n"
     ]
    }
   ],
   "source": [
    "conexion = conectarse_a_bd(db,user,key)\n",
    "query = \"\"\"create table if not exists hospitales (\n",
    "            ncodi INT primary key,\n",
    "            name VARCHAR(300)\n",
    "            );\"\"\"\n",
    "modificar_bd(conexion,query)"
   ]
  },
  {
   "cell_type": "code",
   "execution_count": null,
   "metadata": {},
   "outputs": [
    {
     "name": "stdout",
     "output_type": "stream",
     "text": [
      "Conectado a la base de datos: hospitales\n",
      "Se ha modificado correctamente la base de Datos\n"
     ]
    }
   ],
   "source": [
    "conexion = conectarse_a_bd(db,user,key)\n",
    "query = \"\"\"create table if not exists tipo_hospitalizacion (\n",
    "            tipo_id SERIAL primary key,\n",
    "            nombre VARCHAR(100) unique not null\n",
    "            ); \"\"\"\n",
    "modificar_bd(conexion,query)"
   ]
  },
  {
   "cell_type": "code",
   "execution_count": null,
   "metadata": {},
   "outputs": [
    {
     "name": "stdout",
     "output_type": "stream",
     "text": [
      "Conectado a la base de datos: hospitales\n",
      "Se ha modificado correctamente la base de Datos\n"
     ]
    }
   ],
   "source": [
    "conexion = conectarse_a_bd(db,user,key)\n",
    "query =\"\"\"create table if not exists gastos (\n",
    "        gastos_id SERIAL primary key,\n",
    "        anio INT not null,\n",
    "        totalcompra NUMERIC , \n",
    "        producfarma NUMERIC , \n",
    "        materialsani NUMERIC , \n",
    "        implantes NUMERIC , \n",
    "        restomateriasani NUMERIC , \n",
    "        servcontratado NUMERIC , \n",
    "        trabajocontratado NUMERIC , \n",
    "        xrestocompras NUMERIC , \n",
    "        variaexistencias NUMERIC , \n",
    "        servexteriores NUMERIC , \n",
    "        sumistro NUMERIC , \n",
    "        xrestoserviexter NUMERIC , \n",
    "        gastopersonal NUMERIC , \n",
    "        sueldos NUMERIC , \n",
    "        indemnizacion NUMERIC , \n",
    "        segsocempresa NUMERIC , \n",
    "        otrgassocial NUMERIC , \n",
    "        dotaamortizacion NUMERIC , \n",
    "        perdidadeterioro NUMERIC , \n",
    "        xrestogasto NUMERIC , \n",
    "        totcompragasto NUMERIC,\n",
    "        ncodi INT references hospitales(ncodi)\n",
    "        );\"\"\"\n",
    "modificar_bd(conexion,query)"
   ]
  },
  {
   "cell_type": "code",
   "execution_count": null,
   "metadata": {},
   "outputs": [
    {
     "name": "stdout",
     "output_type": "stream",
     "text": [
      "Conectado a la base de datos: hospitales\n",
      "Se ha modificado correctamente la base de Datos\n"
     ]
    }
   ],
   "source": [
    "conexion = conectarse_a_bd(db,user,key)\n",
    "query =\"\"\"create table if not exists ingresos (\n",
    "    id_ingresos serial primary key,\n",
    "    anio INT NOT NULL,\n",
    "    particulares NUMERIC,\n",
    "    aseguradoras NUMERIC,\n",
    "    aseguradoras_enfermedad NUMERIC,\n",
    "    aseguradoras_trafico NUMERIC,\n",
    "    mutuas NUMERIC,\n",
    "    ncodi INT references hospitales(ncodi),\n",
    "    tipo_id INT references tipo_hospitalizacion(tipo_id)\n",
    "    );\"\"\"\n",
    "modificar_bd(conexion,query)"
   ]
  }
 ],
 "metadata": {
  "kernelspec": {
   "display_name": "Python 3",
   "language": "python",
   "name": "python3"
  },
  "language_info": {
   "codemirror_mode": {
    "name": "ipython",
    "version": 3
   },
   "file_extension": ".py",
   "mimetype": "text/x-python",
   "name": "python",
   "nbconvert_exporter": "python",
   "pygments_lexer": "ipython3",
   "version": "3.11.9"
  }
 },
 "nbformat": 4,
 "nbformat_minor": 2
}
